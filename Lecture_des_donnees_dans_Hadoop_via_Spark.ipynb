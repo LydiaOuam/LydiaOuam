{
 "cells": [
  {
   "cell_type": "code",
   "execution_count": 1,
   "metadata": {},
   "outputs": [],
   "source": [
    "import os\n",
    "from pyspark import SparkContext, SparkConf\n",
    "from pyspark.sql import SparkSession\n",
    "from pyspark.sql.types import StructType\n",
    "from pyspark.sql.functions import col\n",
    "import pandas as pd"
   ]
  },
  {
   "cell_type": "markdown",
   "metadata": {},
   "source": [
    "---"
   ]
  },
  {
   "cell_type": "code",
   "execution_count": 2,
   "metadata": {},
   "outputs": [],
   "source": [
    "os.environ[\"HADOOP_USER_NAME\"] = \"hdfs\"\n",
    "os.environ[\"PYTHON_VERSION\"] = \"3.6\""
   ]
  },
  {
   "cell_type": "code",
   "execution_count": 3,
   "metadata": {},
   "outputs": [
    {
     "name": "stderr",
     "output_type": "stream",
     "text": [
      "/home/datacreapper/.local/lib/python3.6/site-packages/pyspark/context.py:238: FutureWarning: Python 3.6 support is deprecated in Spark 3.2.\n",
      "  FutureWarning\n"
     ]
    }
   ],
   "source": [
    "# init spark session\n",
    "\n",
    "conf = SparkConf()\n",
    "conf.setAppName('Lecture HDFS').setMaster('local[*]')\n",
    "spark = SparkContext(conf=conf)\n"
   ]
  },
  {
   "cell_type": "code",
   "execution_count": 4,
   "metadata": {},
   "outputs": [],
   "source": [
    "sparkSession = SparkSession.builder.appName(\"pyspark_test\").getOrCreate()\n"
   ]
  },
  {
   "cell_type": "code",
   "execution_count": 5,
   "metadata": {},
   "outputs": [
    {
     "data": {
      "text/html": [
       "\n",
       "        <div>\n",
       "            <p><b>SparkContext</b></p>\n",
       "\n",
       "            <p><a href=\"http://datacreapper-G550JK.lan:4041\">Spark UI</a></p>\n",
       "\n",
       "            <dl>\n",
       "              <dt>Version</dt>\n",
       "                <dd><code>v3.2.2</code></dd>\n",
       "              <dt>Master</dt>\n",
       "                <dd><code>local[*]</code></dd>\n",
       "              <dt>AppName</dt>\n",
       "                <dd><code>Lecture HDFS</code></dd>\n",
       "            </dl>\n",
       "        </div>\n",
       "        "
      ],
      "text/plain": [
       "<SparkContext master=local[*] appName=Lecture HDFS>"
      ]
     },
     "execution_count": 5,
     "metadata": {},
     "output_type": "execute_result"
    }
   ],
   "source": [
    "spark\n"
   ]
  },
  {
   "cell_type": "markdown",
   "metadata": {},
   "source": [
    "---"
   ]
  },
  {
   "cell_type": "code",
   "execution_count": 6,
   "metadata": {},
   "outputs": [],
   "source": [
    "# lecture des données\n",
    "path = 'hdfs://localhost:9000/data/objets-trouves-restitution.csv'\n",
    "df = sparkSession.read.format(\"csv\").option(\"header\", \"true\").load(path,delimiter=';')"
   ]
  },
  {
   "cell_type": "code",
   "execution_count": 7,
   "metadata": {},
   "outputs": [
    {
     "data": {
      "text/plain": [
       "[('Date', 'string'),\n",
       " ('Date et heure de restitution', 'string'),\n",
       " ('Gare', 'string'),\n",
       " ('Code UIC', 'string'),\n",
       " (\"Nature d'objets\", 'string'),\n",
       " (\"Type d'objets\", 'string'),\n",
       " (\"Type d'enregistrement\", 'string')]"
      ]
     },
     "execution_count": 7,
     "metadata": {},
     "output_type": "execute_result"
    }
   ],
   "source": [
    "df.dtypes"
   ]
  },
  {
   "cell_type": "code",
   "execution_count": 8,
   "metadata": {},
   "outputs": [
    {
     "name": "stdout",
     "output_type": "stream",
     "text": [
      "root\n",
      " |-- Date: string (nullable = true)\n",
      " |-- Date et heure de restitution: string (nullable = true)\n",
      " |-- Gare: string (nullable = true)\n",
      " |-- Code UIC: string (nullable = true)\n",
      " |-- Nature d'objets: string (nullable = true)\n",
      " |-- Type d'objets: string (nullable = true)\n",
      " |-- Type d'enregistrement: string (nullable = true)\n",
      "\n"
     ]
    }
   ],
   "source": [
    "df.printSchema()"
   ]
  },
  {
   "cell_type": "markdown",
   "metadata": {},
   "source": [
    "---"
   ]
  },
  {
   "cell_type": "code",
   "execution_count": 9,
   "metadata": {},
   "outputs": [],
   "source": [
    "# on renomme compte le nombre d'elements de chaque nature et o nomme cette colonne < countTrouvé >\n",
    "new_df = df.groupBy([\"Nature d'objets\"]).count().orderBy('count', ascending=False).withColumnRenamed(\"count\",\"countTrouve\")\n"
   ]
  },
  {
   "cell_type": "code",
   "execution_count": 10,
   "metadata": {},
   "outputs": [
    {
     "name": "stdout",
     "output_type": "stream",
     "text": [
      "+--------------------+-----------+\n",
      "|     Nature d'objets|countTrouve|\n",
      "+--------------------+-----------+\n",
      "|Porte-monnaie, po...|      68638|\n",
      "|           Sac à dos|      61922|\n",
      "|  Téléphone portable|      58858|\n",
      "|Valise, sac sur r...|      51312|\n",
      "|Manteau, veste, b...|      49050|\n",
      "+--------------------+-----------+\n",
      "only showing top 5 rows\n",
      "\n"
     ]
    }
   ],
   "source": [
    "new_df.show(5)"
   ]
  },
  {
   "cell_type": "code",
   "execution_count": 11,
   "metadata": {},
   "outputs": [
    {
     "ename": "AnalysisException",
     "evalue": "path file:/home/datacreapper/Bureau/ProjectBigDataVis/Spark_output/objets-trouves__1 already exists.",
     "output_type": "error",
     "traceback": [
      "\u001b[0;31m---------------------------------------------------------------------------\u001b[0m",
      "\u001b[0;31mAnalysisException\u001b[0m                         Traceback (most recent call last)",
      "\u001b[0;32m<ipython-input-11-d08695bb1119>\u001b[0m in \u001b[0;36m<module>\u001b[0;34m()\u001b[0m\n\u001b[1;32m      1\u001b[0m \u001b[0;31m# On sauvegarde le fichier avec la nouvelle colonne countTrouve\u001b[0m\u001b[0;34m\u001b[0m\u001b[0;34m\u001b[0m\u001b[0;34m\u001b[0m\u001b[0m\n\u001b[0;32m----> 2\u001b[0;31m \u001b[0mnew_df\u001b[0m\u001b[0;34m.\u001b[0m\u001b[0mwrite\u001b[0m\u001b[0;34m.\u001b[0m\u001b[0mformat\u001b[0m\u001b[0;34m(\u001b[0m\u001b[0;34m\"csv\"\u001b[0m\u001b[0;34m)\u001b[0m\u001b[0;34m.\u001b[0m\u001b[0msave\u001b[0m\u001b[0;34m(\u001b[0m \u001b[0;34m\"Spark_output/objets-trouves__1\"\u001b[0m\u001b[0;34m)\u001b[0m\u001b[0;34m\u001b[0m\u001b[0;34m\u001b[0m\u001b[0m\n\u001b[0m",
      "\u001b[0;32m/home/datacreapper/.local/lib/python3.6/site-packages/pyspark/sql/readwriter.py\u001b[0m in \u001b[0;36msave\u001b[0;34m(self, path, format, mode, partitionBy, **options)\u001b[0m\n\u001b[1;32m    738\u001b[0m             \u001b[0mself\u001b[0m\u001b[0;34m.\u001b[0m\u001b[0m_jwrite\u001b[0m\u001b[0;34m.\u001b[0m\u001b[0msave\u001b[0m\u001b[0;34m(\u001b[0m\u001b[0;34m)\u001b[0m\u001b[0;34m\u001b[0m\u001b[0;34m\u001b[0m\u001b[0m\n\u001b[1;32m    739\u001b[0m         \u001b[0;32melse\u001b[0m\u001b[0;34m:\u001b[0m\u001b[0;34m\u001b[0m\u001b[0;34m\u001b[0m\u001b[0m\n\u001b[0;32m--> 740\u001b[0;31m             \u001b[0mself\u001b[0m\u001b[0;34m.\u001b[0m\u001b[0m_jwrite\u001b[0m\u001b[0;34m.\u001b[0m\u001b[0msave\u001b[0m\u001b[0;34m(\u001b[0m\u001b[0mpath\u001b[0m\u001b[0;34m)\u001b[0m\u001b[0;34m\u001b[0m\u001b[0;34m\u001b[0m\u001b[0m\n\u001b[0m\u001b[1;32m    741\u001b[0m \u001b[0;34m\u001b[0m\u001b[0m\n\u001b[1;32m    742\u001b[0m     \u001b[0;34m@\u001b[0m\u001b[0msince\u001b[0m\u001b[0;34m(\u001b[0m\u001b[0;36m1.4\u001b[0m\u001b[0;34m)\u001b[0m\u001b[0;34m\u001b[0m\u001b[0;34m\u001b[0m\u001b[0m\n",
      "\u001b[0;32m/home/datacreapper/.local/lib/python3.6/site-packages/py4j/java_gateway.py\u001b[0m in \u001b[0;36m__call__\u001b[0;34m(self, *args)\u001b[0m\n\u001b[1;32m   1320\u001b[0m         \u001b[0manswer\u001b[0m \u001b[0;34m=\u001b[0m \u001b[0mself\u001b[0m\u001b[0;34m.\u001b[0m\u001b[0mgateway_client\u001b[0m\u001b[0;34m.\u001b[0m\u001b[0msend_command\u001b[0m\u001b[0;34m(\u001b[0m\u001b[0mcommand\u001b[0m\u001b[0;34m)\u001b[0m\u001b[0;34m\u001b[0m\u001b[0;34m\u001b[0m\u001b[0m\n\u001b[1;32m   1321\u001b[0m         return_value = get_return_value(\n\u001b[0;32m-> 1322\u001b[0;31m             answer, self.gateway_client, self.target_id, self.name)\n\u001b[0m\u001b[1;32m   1323\u001b[0m \u001b[0;34m\u001b[0m\u001b[0m\n\u001b[1;32m   1324\u001b[0m         \u001b[0;32mfor\u001b[0m \u001b[0mtemp_arg\u001b[0m \u001b[0;32min\u001b[0m \u001b[0mtemp_args\u001b[0m\u001b[0;34m:\u001b[0m\u001b[0;34m\u001b[0m\u001b[0;34m\u001b[0m\u001b[0m\n",
      "\u001b[0;32m/home/datacreapper/.local/lib/python3.6/site-packages/pyspark/sql/utils.py\u001b[0m in \u001b[0;36mdeco\u001b[0;34m(*a, **kw)\u001b[0m\n\u001b[1;32m    115\u001b[0m                 \u001b[0;31m# Hide where the exception came from that shows a non-Pythonic\u001b[0m\u001b[0;34m\u001b[0m\u001b[0;34m\u001b[0m\u001b[0;34m\u001b[0m\u001b[0m\n\u001b[1;32m    116\u001b[0m                 \u001b[0;31m# JVM exception message.\u001b[0m\u001b[0;34m\u001b[0m\u001b[0;34m\u001b[0m\u001b[0;34m\u001b[0m\u001b[0m\n\u001b[0;32m--> 117\u001b[0;31m                 \u001b[0;32mraise\u001b[0m \u001b[0mconverted\u001b[0m \u001b[0;32mfrom\u001b[0m \u001b[0;32mNone\u001b[0m\u001b[0;34m\u001b[0m\u001b[0;34m\u001b[0m\u001b[0m\n\u001b[0m\u001b[1;32m    118\u001b[0m             \u001b[0;32melse\u001b[0m\u001b[0;34m:\u001b[0m\u001b[0;34m\u001b[0m\u001b[0;34m\u001b[0m\u001b[0m\n\u001b[1;32m    119\u001b[0m                 \u001b[0;32mraise\u001b[0m\u001b[0;34m\u001b[0m\u001b[0;34m\u001b[0m\u001b[0m\n",
      "\u001b[0;31mAnalysisException\u001b[0m: path file:/home/datacreapper/Bureau/ProjectBigDataVis/Spark_output/objets-trouves__1 already exists."
     ]
    }
   ],
   "source": [
    "# On sauvegarde le fichier avec la nouvelle colonne countTrouve\n",
    "new_df.write.format(\"csv\").save( \"Spark_output/objets-trouves__1\")"
   ]
  },
  {
   "cell_type": "markdown",
   "metadata": {},
   "source": [
    "---"
   ]
  },
  {
   "cell_type": "code",
   "execution_count": 25,
   "metadata": {},
   "outputs": [],
   "source": [
    "new_df_copy_10 = new_df.take(10)"
   ]
  },
  {
   "cell_type": "code",
   "execution_count": 26,
   "metadata": {},
   "outputs": [],
   "source": [
    "import matplotlib.pyplot as plt\n",
    "import seaborn as sns\n",
    "import pandas as pd\n",
    "import numpy as np"
   ]
  },
  {
   "cell_type": "code",
   "execution_count": 27,
   "metadata": {},
   "outputs": [],
   "source": [
    "df = pd.DataFrame (new_df_copy_10, columns = ['NatureObjet','countTrouv'])"
   ]
  },
  {
   "cell_type": "code",
   "execution_count": 28,
   "metadata": {},
   "outputs": [
    {
     "data": {
      "image/png": "[encoded data removed]",
      "text/plain": [
       "<Figure size 1080x576 with 1 Axes>"
      ]
     },
     "metadata": {},
     "output_type": "display_data"
    }
   ],
   "source": [
    "df.plot(x=\"NatureObjet\",y=\"countTrouv\",kind='bar',color=['green','yellow','blue','red','pink'], figsize=(15, 8) ) ;\n",
    "\n",
    "plt.title(\"Nombre d'objects trouvés\")\n",
    "plt.xlabel(\"nature d'objets\")\n",
    "plt.ylabel(\"nombre d'objets\")\n",
    "plt.show()"
   ]
  },
  {
   "cell_type": "markdown",
   "metadata": {},
   "source": [
    "---"
   ]
  },
  {
   "cell_type": "code",
   "execution_count": 29,
   "metadata": {},
   "outputs": [],
   "source": [
    "# import saved csv\n",
    "spark_path = \"Spark_output/objets-trouves\"\n",
    "df1 = sparkSession.read.format(\"csv\").option(\"header\", \"true\").load(path, delimiter=';')"
   ]
  },
  {
   "cell_type": "code",
   "execution_count": 30,
   "metadata": {},
   "outputs": [],
   "source": [
    "df2objetRestitued = df1.filter(col(\"Date et heure de restitution\").isNotNull())"
   ]
  },
  {
   "cell_type": "code",
   "execution_count": 31,
   "metadata": {},
   "outputs": [],
   "source": [
    "mylistRest = df2objetRestitued.groupBy([\"Nature d'objets\"]).count().orderBy('count', ascending=False).withColumnRenamed(\"count\",\"countRes\")"
   ]
  },
  {
   "cell_type": "code",
   "execution_count": 32,
   "metadata": {},
   "outputs": [
    {
     "name": "stdout",
     "output_type": "stream",
     "text": [
      "+--------------------+--------+\n",
      "|     Nature d'objets|countRes|\n",
      "+--------------------+--------+\n",
      "|Porte-monnaie, po...|   36163|\n",
      "|Valise, sac sur r...|   32561|\n",
      "|           Sac à dos|   31606|\n",
      "|  Téléphone portable|   25227|\n",
      "|Sac de voyage, sa...|   21807|\n",
      "+--------------------+--------+\n",
      "only showing top 5 rows\n",
      "\n"
     ]
    }
   ],
   "source": [
    "mylistRest.show(5)"
   ]
  },
  {
   "cell_type": "code",
   "execution_count": 33,
   "metadata": {},
   "outputs": [
    {
     "ename": "SyntaxError",
     "evalue": "EOL while scanning string literal (<ipython-input-33-471d207fbcc5>, line 1)",
     "output_type": "error",
     "traceback": [
      "\u001b[0;36m  File \u001b[0;32m\"<ipython-input-33-471d207fbcc5>\"\u001b[0;36m, line \u001b[0;32m1\u001b[0m\n\u001b[0;31m    mylistRest.write.format(\"csv\").save(\"/home/datacreapper/Bureau/ProjectBigDataVis/Données/Donnees/objetsrestitues_1)\u001b[0m\n\u001b[0m                                                                                                                        ^\u001b[0m\n\u001b[0;31mSyntaxError\u001b[0m\u001b[0;31m:\u001b[0m EOL while scanning string literal\n"
     ]
    }
   ],
   "source": [
    "mylistRest.write.format(\"csv\").save(\"/home/datacreapper/Bureau/ProjectBigDataVis/Données/Donnees/objetsrestitues_1)"
   ]
  },
  {
   "cell_type": "code",
   "execution_count": 34,
   "metadata": {},
   "outputs": [],
   "source": [
    "# Jointure entre les deux liste\n",
    "myListJoined = mylistRest.join(new_df,[\"Nature d'objets\"])"
   ]
  },
  {
   "cell_type": "code",
   "execution_count": 35,
   "metadata": {},
   "outputs": [
    {
     "name": "stdout",
     "output_type": "stream",
     "text": [
      "+--------------------+--------+-----------+\n",
      "|     Nature d'objets|countRes|countTrouve|\n",
      "+--------------------+--------+-----------+\n",
      "|  Autres jeux/jouets|      72|        510|\n",
      "|Autres articles m...|     294|        932|\n",
      "|Autres articles d...|     914|       3785|\n",
      "|      Jeu de société|      14|        116|\n",
      "|           Après-ski|       3|         13|\n",
      "|Disque dur extern...|     177|       1205|\n",
      "|          Skateboard|     217|        642|\n",
      "|Attaché-case, ser...|    2054|       3528|\n",
      "|    Pull over, gilet|     641|       9049|\n",
      "|           Sac à dos|   31606|      61922|\n",
      "|       Autres bijoux|      18|        222|\n",
      "|Porte-monnaie, po...|   36163|      68638|\n",
      "|     Chemise à rabat|     863|       1964|\n",
      "|  Appareils auditifs|      43|        246|\n",
      "|Sac d'enseigne (p...|    6916|      23656|\n",
      "|        Club de golf|      38|         58|\n",
      "|  Téléphone portable|   25227|      58858|\n",
      "|Pièce d'identité ...|    2504|      10519|\n",
      "|  Housse de vêtement|     243|        429|\n",
      "|Manteau, veste, b...|   12709|      49050|\n",
      "+--------------------+--------+-----------+\n",
      "only showing top 20 rows\n",
      "\n"
     ]
    }
   ],
   "source": [
    "myListJoined.show()"
   ]
  },
  {
   "cell_type": "code",
   "execution_count": 36,
   "metadata": {},
   "outputs": [],
   "source": [
    "from pyspark.sql import functions as F\n"
   ]
  },
  {
   "cell_type": "code",
   "execution_count": 37,
   "metadata": {},
   "outputs": [],
   "source": [
    "from pyspark.sql.types     import FloatType\n",
    "from pyspark.sql.functions import udf\n",
    "\n",
    "@udf(returnType = FloatType())\n",
    "def dif(col1, col2):\n",
    "    return (col1 * 100) / col2"
   ]
  },
  {
   "cell_type": "code",
   "execution_count": 38,
   "metadata": {},
   "outputs": [],
   "source": [
    "# le pourcentage d'objet restituées \n",
    "myListJoined=myListJoined.withColumn(\"Pourcentage\",dif(\"countRes\",\"countTrouve\")).orderBy('Pourcentage', ascending=False)"
   ]
  },
  {
   "cell_type": "code",
   "execution_count": 39,
   "metadata": {},
   "outputs": [
    {
     "name": "stdout",
     "output_type": "stream",
     "text": [
      "+--------------------+--------+-----------+-----------+\n",
      "|     Nature d'objets|countRes|countTrouve|Pourcentage|\n",
      "+--------------------+--------+-----------+-----------+\n",
      "|              Violon|     130|        166|  78.313255|\n",
      "|Appareils respira...|     147|        200|       73.5|\n",
      "|Ordinateur, ordin...|    2330|       3260|   71.47239|\n",
      "|               Flûte|      38|         54|   70.37037|\n",
      "|Ordinateur, ordin...|    5765|       8497|   67.84747|\n",
      "|        Club de golf|      38|         58|   65.51724|\n",
      "|Valise, sac sur r...|   32561|      51312|   63.45689|\n",
      "|             Guitare|     462|        734|   62.94278|\n",
      "|Autres instrument...|     501|        832|  60.216347|\n",
      "|          Sac à main|   11026|      18403|  59.914143|\n",
      "|Sacoche pour ordi...|    2752|       4672|   58.90411|\n",
      "|Attaché-case, ser...|    2054|       3528|  58.219955|\n",
      "|Sacoche ventrale,...|    3585|       6160|   58.19805|\n",
      "|Téléphone portabl...|    8119|      14077|   57.67564|\n",
      "|  Housse de vêtement|     243|        429|  56.643356|\n",
      "|Porte-monnaie, po...|   36163|      68638|  52.686558|\n",
      "|Tablette tactile ...|    2344|       4476|  52.368187|\n",
      "|           Sac à dos|   31606|      61922|  51.041634|\n",
      "|Sac de voyage, sa...|   21807|      42730|    51.0344|\n",
      "|           Snowboard|      18|         37|  48.648647|\n",
      "+--------------------+--------+-----------+-----------+\n",
      "only showing top 20 rows\n",
      "\n"
     ]
    }
   ],
   "source": [
    "myListJoined.show()"
   ]
  },
  {
   "cell_type": "code",
   "execution_count": 40,
   "metadata": {},
   "outputs": [],
   "source": [
    "# Le fichier qui contient les objets déclarés perdu\n",
    "path1  ='hdfs://localhost:9000/data//objets-trouves-gares.csv'"
   ]
  },
  {
   "cell_type": "code",
   "execution_count": 41,
   "metadata": {},
   "outputs": [],
   "source": [
    "df3 = sparkSession.read.format(\"csv\").option(\"header\", \"true\").load(path1,delimiter=';')"
   ]
  },
  {
   "cell_type": "code",
   "execution_count": 42,
   "metadata": {},
   "outputs": [
    {
     "data": {
      "text/plain": [
       "[('Date de la déclaration de perte', 'string'),\n",
       " ('Gare', 'string'),\n",
       " ('Code UIC', 'string'),\n",
       " (\"Nature d'objets\", 'string'),\n",
       " (\"Type d'objets\", 'string'),\n",
       " (\"Type d'enregistrement\", 'string')]"
      ]
     },
     "execution_count": 42,
     "metadata": {},
     "output_type": "execute_result"
    }
   ],
   "source": [
    "df3.dtypes"
   ]
  },
  {
   "cell_type": "code",
   "execution_count": 43,
   "metadata": {},
   "outputs": [
    {
     "name": "stdout",
     "output_type": "stream",
     "text": [
      "+-------------------------------+------------------+----------+--------------------+--------------------+---------------------+\n",
      "|Date de la déclaration de perte|              Gare|  Code UIC|     Nature d'objets|       Type d'objets|Type d'enregistrement|\n",
      "+-------------------------------+------------------+----------+--------------------+--------------------+---------------------+\n",
      "|           2021-02-17T16:38:...|              null|      null|       Autres divers|              Divers| Déclaration de Perte|\n",
      "|           2021-02-17T16:55:...|              null|      null|Valise, sac sur r...|Bagagerie: sacs, ...| Déclaration de Perte|\n",
      "|           2021-02-17T16:58:...|              null|      null|               Bague|     Bijoux, montres| Déclaration de Perte|\n",
      "|           2021-02-17T17:17:...|              null|      null|     Carte de crédit|Porte-monnaie / p...| Déclaration de Perte|\n",
      "|           2021-02-17T17:40:...|Paris Saint-Lazare|0087384008|Sac d'enseigne (p...|Bagagerie: sacs, ...| Déclaration de Perte|\n",
      "|           2021-02-17T17:45:...|              null|      null|  Carte d'abonnement|Pièces d'identité...| Déclaration de Perte|\n",
      "|           2021-02-17T17:46:...|           Orléans|0087543009|Valise, sac sur r...|Bagagerie: sacs, ...| Déclaration de Perte|\n",
      "|           2021-02-17T17:49:...|              null|      null|Téléphone portabl...|Appareils électro...| Déclaration de Perte|\n",
      "|           2021-02-17T17:51:...|              null|      null|           Sac à dos|Bagagerie: sacs, ...| Déclaration de Perte|\n",
      "|           2021-02-17T17:51:...|              null|      null|Pièce d'identité ...|Pièces d'identité...| Déclaration de Perte|\n",
      "|           2021-02-17T18:01:...|              null|      null|              Montre|     Bijoux, montres| Déclaration de Perte|\n",
      "|           2021-02-17T18:09:...|              null|      null|Sac de voyage, sa...|Bagagerie: sacs, ...| Déclaration de Perte|\n",
      "|           2021-02-17T18:16:...|              null|      null|AirPod, casque au...|Appareils électro...| Déclaration de Perte|\n",
      "|           2021-02-17T18:35:...|              null|      null|Valise, sac sur r...|Bagagerie: sacs, ...| Déclaration de Perte|\n",
      "|           2021-02-17T18:54:...|              null|      null|Carte d'identité,...|Pièces d'identité...| Déclaration de Perte|\n",
      "|           2021-02-17T19:09:...|              null|      null|Sac d'enseigne (p...|Bagagerie: sacs, ...| Déclaration de Perte|\n",
      "|           2021-02-17T19:13:...|              null|      null|    Foulard, écharpe|Vêtements, chauss...| Déclaration de Perte|\n",
      "|           2021-02-17T19:29:...|              null|      null|  Téléphone portable|Appareils électro...| Déclaration de Perte|\n",
      "|           2021-02-17T19:31:...|              null|      null|    Pull over, gilet|Vêtements, chauss...| Déclaration de Perte|\n",
      "|           2021-02-17T19:41:...|              null|      null|Carte d'identité,...|Pièces d'identité...| Déclaration de Perte|\n",
      "+-------------------------------+------------------+----------+--------------------+--------------------+---------------------+\n",
      "only showing top 20 rows\n",
      "\n"
     ]
    }
   ],
   "source": [
    "df3.show()"
   ]
  },
  {
   "cell_type": "code",
   "execution_count": 44,
   "metadata": {},
   "outputs": [],
   "source": [
    "mylistDec = df3.groupBy([\"Nature d'objets\"]).count().orderBy('count', ascending=False).withColumnRenamed(\"count\",\"countDec\")"
   ]
  },
  {
   "cell_type": "code",
   "execution_count": 45,
   "metadata": {},
   "outputs": [
    {
     "name": "stdout",
     "output_type": "stream",
     "text": [
      "+--------------------+--------+\n",
      "|     Nature d'objets|countDec|\n",
      "+--------------------+--------+\n",
      "|Porte-monnaie, po...|  136784|\n",
      "|           Sac à dos|  114140|\n",
      "|  Téléphone portable|  111882|\n",
      "|Valise, sac sur r...|   96627|\n",
      "|Manteau, veste, b...|   88253|\n",
      "|Sac de voyage, sa...|   75319|\n",
      "|    Clés, porte-clés|   58115|\n",
      "|Carte d'identité,...|   49682|\n",
      "|Sac d'enseigne (p...|   43428|\n",
      "|       Autres divers|   43127|\n",
      "|            Lunettes|   43016|\n",
      "|    Lunettes en étui|   39745|\n",
      "|          Sac à main|   36856|\n",
      "|Téléphone portabl...|   35446|\n",
      "|Ordinateur, ordin...|   30389|\n",
      "|Autres appareils ...|   26430|\n",
      "|     Bonnet, chapeau|   26326|\n",
      "|  Carte d'abonnement|   22904|\n",
      "|     Autre bagagerie|   20769|\n",
      "|    Foulard, écharpe|   18863|\n",
      "+--------------------+--------+\n",
      "only showing top 20 rows\n",
      "\n"
     ]
    }
   ],
   "source": [
    "mylistDec.show()"
   ]
  },
  {
   "cell_type": "code",
   "execution_count": 46,
   "metadata": {},
   "outputs": [],
   "source": [
    "myListJoinedDecRes = mylistDec.join(new_df,[\"Nature d'objets\"])"
   ]
  },
  {
   "cell_type": "code",
   "execution_count": 47,
   "metadata": {},
   "outputs": [
    {
     "name": "stdout",
     "output_type": "stream",
     "text": [
      "+--------------------+--------+-----------+\n",
      "|     Nature d'objets|countDec|countTrouve|\n",
      "+--------------------+--------+-----------+\n",
      "|  Autres jeux/jouets|    1010|        510|\n",
      "|Autres articles m...|    1933|        932|\n",
      "|Autres articles d...|   14822|       3785|\n",
      "|      Jeu de société|     338|        116|\n",
      "|           Après-ski|      48|         13|\n",
      "|Disque dur extern...|    7545|       1205|\n",
      "|          Skateboard|    1645|        642|\n",
      "|Attaché-case, ser...|    8753|       3528|\n",
      "|    Pull over, gilet|   13376|       9049|\n",
      "|           Sac à dos|  114140|      61922|\n",
      "|       Autres bijoux|     987|        222|\n",
      "|Porte-monnaie, po...|  136784|      68638|\n",
      "|     Chemise à rabat|    5225|       1964|\n",
      "|  Appareils auditifs|    1312|        246|\n",
      "|Sac d'enseigne (p...|   43428|      23656|\n",
      "|        Club de golf|     127|         58|\n",
      "|  Téléphone portable|  111882|      58858|\n",
      "|Pièce d'identité ...|   17831|      10519|\n",
      "|  Housse de vêtement|     880|        429|\n",
      "|Manteau, veste, b...|   88253|      49050|\n",
      "+--------------------+--------+-----------+\n",
      "only showing top 20 rows\n",
      "\n"
     ]
    }
   ],
   "source": [
    "myListJoinedDecRes.show()\n",
    "# Reste a voir comment visualiser tout ça"
   ]
  },
  {
   "cell_type": "markdown",
   "metadata": {},
   "source": [
    "#Transform the Date from a string to a timestamp (Date)\n",
    "\n",
    "#Relation entre les declaration de perte et la régularité mensuelle"
   ]
  },
  {
   "cell_type": "code",
   "execution_count": 48,
   "metadata": {},
   "outputs": [],
   "source": [
    "from pyspark.sql.functions import *"
   ]
  },
  {
   "cell_type": "code",
   "execution_count": 49,
   "metadata": {},
   "outputs": [],
   "source": [
    "df4 = df3.withColumn('perteTime', F.col('Date de la déclaration de perte').cast(\"timestamp\"))"
   ]
  },
  {
   "cell_type": "code",
   "execution_count": 50,
   "metadata": {},
   "outputs": [
    {
     "data": {
      "text/plain": [
       "[('Date de la déclaration de perte', 'string'),\n",
       " ('Gare', 'string'),\n",
       " ('Code UIC', 'string'),\n",
       " (\"Nature d'objets\", 'string'),\n",
       " (\"Type d'objets\", 'string'),\n",
       " (\"Type d'enregistrement\", 'string'),\n",
       " ('perteTime', 'timestamp')]"
      ]
     },
     "execution_count": 50,
     "metadata": {},
     "output_type": "execute_result"
    }
   ],
   "source": [
    "df4.dtypes"
   ]
  },
  {
   "cell_type": "code",
   "execution_count": 51,
   "metadata": {
    "scrolled": true
   },
   "outputs": [
    {
     "name": "stdout",
     "output_type": "stream",
     "text": [
      "+-------------------------------+----+--------+---------------+-------------+---------------------+-------------------+\n",
      "|Date de la déclaration de perte|Gare|Code UIC|Nature d'objets|Type d'objets|Type d'enregistrement|perteTime          |\n",
      "+-------------------------------+----+--------+---------------+-------------+---------------------+-------------------+\n",
      "|2021-02-17T16:38:45+01:00      |null|null    |Autres divers  |Divers       |Déclaration de Perte |2021-02-17 16:38:45|\n",
      "+-------------------------------+----+--------+---------------+-------------+---------------------+-------------------+\n",
      "only showing top 1 row\n",
      "\n"
     ]
    }
   ],
   "source": [
    "df4.show(1,truncate=False)"
   ]
  },
  {
   "cell_type": "code",
   "execution_count": 52,
   "metadata": {},
   "outputs": [
    {
     "data": {
      "text/plain": [
       "<bound method DataFrame.printSchema of DataFrame[Date de la déclaration de perte: string, Gare: string, Code UIC: string, Nature d'objets: string, Type d'objets: string, Type d'enregistrement: string, perteTime: timestamp]>"
      ]
     },
     "execution_count": 52,
     "metadata": {},
     "output_type": "execute_result"
    }
   ],
   "source": [
    "df4.printSchema"
   ]
  },
  {
   "cell_type": "code",
   "execution_count": 53,
   "metadata": {},
   "outputs": [],
   "source": [
    "df4 = df4.withColumn(\"year\",year(col(\"perteTime\")))\n",
    "df4 = df4.withColumn(\"month\",month(col(\"perteTime\")))\n",
    "df4 = df4.withColumn(\"hour\",hour(col(\"perteTime\")))\n",
    "df4 = df4.withColumn(\"minute\",minute(col(\"perteTime\")))"
   ]
  },
  {
   "cell_type": "markdown",
   "metadata": {},
   "source": [
    "Pour ce traitemant on va d'abord se focaliser sur un mois précis et puis on va regarder les intervalles des horaires"
   ]
  },
  {
   "cell_type": "code",
   "execution_count": 54,
   "metadata": {},
   "outputs": [
    {
     "name": "stdout",
     "output_type": "stream",
     "text": [
      "+-------------------------------+----+--------+---------------+-------------+---------------------+-------------------+----+-----+----+------+\n",
      "|Date de la déclaration de perte|Gare|Code UIC|Nature d'objets|Type d'objets|Type d'enregistrement|perteTime          |year|month|hour|minute|\n",
      "+-------------------------------+----+--------+---------------+-------------+---------------------+-------------------+----+-----+----+------+\n",
      "|2021-02-17T16:38:45+01:00      |null|null    |Autres divers  |Divers       |Déclaration de Perte |2021-02-17 16:38:45|2021|2    |16  |38    |\n",
      "+-------------------------------+----+--------+---------------+-------------+---------------------+-------------------+----+-----+----+------+\n",
      "only showing top 1 row\n",
      "\n"
     ]
    }
   ],
   "source": [
    "df4.show(1,truncate=False)"
   ]
  },
  {
   "cell_type": "code",
   "execution_count": 55,
   "metadata": {},
   "outputs": [],
   "source": [
    "donneAnneprecis = df4.where(col(\"year\") == '2019')\n",
    "donneMoisprecis = donneAnneprecis.where(col(\"month\") == '5')"
   ]
  },
  {
   "cell_type": "code",
   "execution_count": 56,
   "metadata": {},
   "outputs": [
    {
     "name": "stdout",
     "output_type": "stream",
     "text": [
      "+-------------------------------+------------------+----------+--------------------+--------------------+---------------------+-------------------+----+-----+----+------+\n",
      "|Date de la déclaration de perte|              Gare|  Code UIC|     Nature d'objets|       Type d'objets|Type d'enregistrement|          perteTime|year|month|hour|minute|\n",
      "+-------------------------------+------------------+----------+--------------------+--------------------+---------------------+-------------------+----+-----+----+------+\n",
      "|           2019-05-24T18:52:...|         Paris Est|0087113001|Manteau, veste, b...|Vêtements, chauss...| Déclaration de Perte|2019-05-24 18:52:18|2019|    5|  18|    52|\n",
      "|           2019-05-24T18:53:...|              null|      null|  Téléphone portable|Appareils électro...| Déclaration de Perte|2019-05-24 18:53:32|2019|    5|  18|    53|\n",
      "|           2019-05-24T19:00:...|              null|      null|Sac de voyage, sa...|Bagagerie: sacs, ...| Déclaration de Perte|2019-05-24 19:00:58|2019|    5|  19|     0|\n",
      "|           2019-05-24T19:09:...|              null|      null|Autre pièce ou pa...|Pièces d'identité...| Déclaration de Perte|2019-05-24 19:09:28|2019|    5|  19|     9|\n",
      "|           2019-05-24T19:11:...|Paris Saint-Lazare|0087384008|Sacoche ventrale,...|Bagagerie: sacs, ...| Déclaration de Perte|2019-05-24 19:11:10|2019|    5|  19|    11|\n",
      "|           2019-05-24T19:30:...|              null|      null|  Téléphone portable|Appareils électro...| Déclaration de Perte|2019-05-24 19:30:25|2019|    5|  19|    30|\n",
      "|           2019-05-24T19:38:...|              null|      null|     Carte de crédit|Porte-monnaie / p...| Déclaration de Perte|2019-05-24 19:38:43|2019|    5|  19|    38|\n",
      "|           2019-05-24T19:39:...|              null|      null|           Sac à dos|Bagagerie: sacs, ...| Déclaration de Perte|2019-05-24 19:39:35|2019|    5|  19|    39|\n",
      "|           2019-05-24T19:50:...|              null|      null|Porte-monnaie, po...|Porte-monnaie / p...| Déclaration de Perte|2019-05-24 19:50:52|2019|    5|  19|    50|\n",
      "|           2019-05-24T19:52:...|              null|      null|     Carte de crédit|Porte-monnaie / p...| Déclaration de Perte|2019-05-24 19:52:24|2019|    5|  19|    52|\n",
      "+-------------------------------+------------------+----------+--------------------+--------------------+---------------------+-------------------+----+-----+----+------+\n",
      "only showing top 10 rows\n",
      "\n"
     ]
    }
   ],
   "source": [
    "donneMoisprecis.show(10)"
   ]
  },
  {
   "cell_type": "code",
   "execution_count": 57,
   "metadata": {},
   "outputs": [],
   "source": [
    "donneMoisprecis = donneMoisprecis.orderBy('hour','minute', ascending = True)"
   ]
  },
  {
   "cell_type": "code",
   "execution_count": 58,
   "metadata": {},
   "outputs": [
    {
     "name": "stdout",
     "output_type": "stream",
     "text": [
      "+-------------------------------+----+--------+--------------------+--------------------+---------------------+-------------------+----+-----+----+------+\n",
      "|Date de la déclaration de perte|Gare|Code UIC|     Nature d'objets|       Type d'objets|Type d'enregistrement|          perteTime|year|month|hour|minute|\n",
      "+-------------------------------+----+--------+--------------------+--------------------+---------------------+-------------------+----+-----+----+------+\n",
      "|           2019-05-03T00:00:...|null|    null|Sac de voyage, sa...|Bagagerie: sacs, ...| Déclaration de Perte|2019-05-03 00:00:45|2019|    5|   0|     0|\n",
      "|           2019-05-27T00:00:...|null|    null|Manteau, veste, b...|Vêtements, chauss...| Déclaration de Perte|2019-05-27 00:00:38|2019|    5|   0|     0|\n",
      "|           2019-05-15T00:00:...|null|    null|Carte d'identité,...|Pièces d'identité...| Déclaration de Perte|2019-05-15 00:00:25|2019|    5|   0|     0|\n",
      "|           2019-05-02T00:00:...|null|    null|       Autres divers|              Divers| Déclaration de Perte|2019-05-02 00:00:30|2019|    5|   0|     0|\n",
      "|           2019-05-31T00:00:...|null|    null|       Autres bijoux|     Bijoux, montres| Déclaration de Perte|2019-05-31 00:00:43|2019|    5|   0|     0|\n",
      "|           2019-05-02T00:00:...|null|    null|Tablette tactile ...|Appareils électro...| Déclaration de Perte|2019-05-02 00:00:11|2019|    5|   0|     0|\n",
      "|           2019-05-15T00:01:...|null|    null|Parapluie télesco...|          Parapluies| Déclaration de Perte|2019-05-15 00:01:58|2019|    5|   0|     1|\n",
      "|           2019-05-11T00:01:...|null|    null|          Sac à main|Bagagerie: sacs, ...| Déclaration de Perte|2019-05-11 00:01:14|2019|    5|   0|     1|\n",
      "|           2019-05-25T00:02:...|null|    null|Autre pièce ou pa...|Pièces d'identité...| Déclaration de Perte|2019-05-25 00:02:11|2019|    5|   0|     2|\n",
      "|           2019-05-19T00:03:...|null|    null|Sac d'enseigne (p...|Bagagerie: sacs, ...| Déclaration de Perte|2019-05-19 00:03:55|2019|    5|   0|     3|\n",
      "+-------------------------------+----+--------+--------------------+--------------------+---------------------+-------------------+----+-----+----+------+\n",
      "only showing top 10 rows\n",
      "\n"
     ]
    }
   ],
   "source": [
    "donneMoisprecis.show(10)"
   ]
  },
  {
   "cell_type": "code",
   "execution_count": 59,
   "metadata": {},
   "outputs": [],
   "source": [
    "listInterval = []\n",
    "listNumber = []\n",
    "for i in range(22):\n",
    "    a = donneMoisprecis.where(col(\"hour\").between(i,i+2)).count()\n",
    "    chaine = \"[\"+str(i)+','+str(i+2)+\"]\"\n",
    "    listInterval.append(chaine)\n",
    "    listNumber.append(a)"
   ]
  },
  {
   "cell_type": "code",
   "execution_count": 60,
   "metadata": {},
   "outputs": [],
   "source": [
    "MyDataMonth5 = pd.DataFrame(list(zip(listInterval,listNumber)), columns = ['Interval de temps','Nombres objets perdus'])"
   ]
  },
  {
   "cell_type": "code",
   "execution_count": 61,
   "metadata": {
    "scrolled": true
   },
   "outputs": [
    {
     "data": {
      "text/html": [
       "<div>\n",
       "<style scoped>\n",
       "    .dataframe tbody tr th:only-of-type {\n",
       "        vertical-align: middle;\n",
       "    }\n",
       "\n",
       "    .dataframe tbody tr th {\n",
       "        vertical-align: top;\n",
       "    }\n",
       "\n",
       "    .dataframe thead th {\n",
       "        text-align: right;\n",
       "    }\n",
       "</style>\n",
       "<table border=\"1\" class=\"dataframe\">\n",
       "  <thead>\n",
       "    <tr style=\"text-align: right;\">\n",
       "      <th></th>\n",
       "      <th>Interval de temps</th>\n",
       "      <th>Nombres objets perdus</th>\n",
       "    </tr>\n",
       "  </thead>\n",
       "  <tbody>\n",
       "    <tr>\n",
       "      <th>0</th>\n",
       "      <td>[0,2]</td>\n",
       "      <td>277</td>\n",
       "    </tr>\n",
       "    <tr>\n",
       "      <th>1</th>\n",
       "      <td>[1,3]</td>\n",
       "      <td>99</td>\n",
       "    </tr>\n",
       "    <tr>\n",
       "      <th>2</th>\n",
       "      <td>[2,4]</td>\n",
       "      <td>59</td>\n",
       "    </tr>\n",
       "    <tr>\n",
       "      <th>3</th>\n",
       "      <td>[3,5]</td>\n",
       "      <td>46</td>\n",
       "    </tr>\n",
       "    <tr>\n",
       "      <th>4</th>\n",
       "      <td>[4,6]</td>\n",
       "      <td>107</td>\n",
       "    </tr>\n",
       "    <tr>\n",
       "      <th>5</th>\n",
       "      <td>[5,7]</td>\n",
       "      <td>312</td>\n",
       "    </tr>\n",
       "    <tr>\n",
       "      <th>6</th>\n",
       "      <td>[6,8]</td>\n",
       "      <td>1091</td>\n",
       "    </tr>\n",
       "    <tr>\n",
       "      <th>7</th>\n",
       "      <td>[7,9]</td>\n",
       "      <td>2250</td>\n",
       "    </tr>\n",
       "    <tr>\n",
       "      <th>8</th>\n",
       "      <td>[8,10]</td>\n",
       "      <td>3310</td>\n",
       "    </tr>\n",
       "    <tr>\n",
       "      <th>9</th>\n",
       "      <td>[9,11]</td>\n",
       "      <td>3749</td>\n",
       "    </tr>\n",
       "    <tr>\n",
       "      <th>10</th>\n",
       "      <td>[10,12]</td>\n",
       "      <td>3592</td>\n",
       "    </tr>\n",
       "    <tr>\n",
       "      <th>11</th>\n",
       "      <td>[11,13]</td>\n",
       "      <td>3344</td>\n",
       "    </tr>\n",
       "    <tr>\n",
       "      <th>12</th>\n",
       "      <td>[12,14]</td>\n",
       "      <td>3226</td>\n",
       "    </tr>\n",
       "    <tr>\n",
       "      <th>13</th>\n",
       "      <td>[13,15]</td>\n",
       "      <td>3264</td>\n",
       "    </tr>\n",
       "    <tr>\n",
       "      <th>14</th>\n",
       "      <td>[14,16]</td>\n",
       "      <td>3403</td>\n",
       "    </tr>\n",
       "    <tr>\n",
       "      <th>15</th>\n",
       "      <td>[15,17]</td>\n",
       "      <td>3436</td>\n",
       "    </tr>\n",
       "    <tr>\n",
       "      <th>16</th>\n",
       "      <td>[16,18]</td>\n",
       "      <td>3394</td>\n",
       "    </tr>\n",
       "    <tr>\n",
       "      <th>17</th>\n",
       "      <td>[17,19]</td>\n",
       "      <td>3258</td>\n",
       "    </tr>\n",
       "    <tr>\n",
       "      <th>18</th>\n",
       "      <td>[18,20]</td>\n",
       "      <td>2676</td>\n",
       "    </tr>\n",
       "    <tr>\n",
       "      <th>19</th>\n",
       "      <td>[19,21]</td>\n",
       "      <td>2105</td>\n",
       "    </tr>\n",
       "    <tr>\n",
       "      <th>20</th>\n",
       "      <td>[20,22]</td>\n",
       "      <td>1501</td>\n",
       "    </tr>\n",
       "    <tr>\n",
       "      <th>21</th>\n",
       "      <td>[21,23]</td>\n",
       "      <td>1232</td>\n",
       "    </tr>\n",
       "  </tbody>\n",
       "</table>\n",
       "</div>"
      ],
      "text/plain": [
       "   Interval de temps  Nombres objets perdus\n",
       "0              [0,2]                    277\n",
       "1              [1,3]                     99\n",
       "2              [2,4]                     59\n",
       "3              [3,5]                     46\n",
       "4              [4,6]                    107\n",
       "5              [5,7]                    312\n",
       "6              [6,8]                   1091\n",
       "7              [7,9]                   2250\n",
       "8             [8,10]                   3310\n",
       "9             [9,11]                   3749\n",
       "10           [10,12]                   3592\n",
       "11           [11,13]                   3344\n",
       "12           [12,14]                   3226\n",
       "13           [13,15]                   3264\n",
       "14           [14,16]                   3403\n",
       "15           [15,17]                   3436\n",
       "16           [16,18]                   3394\n",
       "17           [17,19]                   3258\n",
       "18           [18,20]                   2676\n",
       "19           [19,21]                   2105\n",
       "20           [20,22]                   1501\n",
       "21           [21,23]                   1232"
      ]
     },
     "execution_count": 61,
     "metadata": {},
     "output_type": "execute_result"
    }
   ],
   "source": [
    "# Dans ce dataFrame on peut voir le nombre d'objet perdu entre diff intervalle de temps exemple entre 0h et 2h \n",
    "# on a 277 déclaration de perte \n",
    "MyDataMonth5"
   ]
  },
  {
   "cell_type": "code",
   "execution_count": 62,
   "metadata": {
    "scrolled": true
   },
   "outputs": [
    {
     "data": {
      "text/plain": [
       "<AxesSubplot:xlabel='Interval de temps'>"
      ]
     },
     "execution_count": 62,
     "metadata": {},
     "output_type": "execute_result"
    },
    {
     "data": {
      "image/png": "[encoded data removed]",
      "text/plain": [
       "<Figure size 1008x360 with 1 Axes>"
      ]
     },
     "metadata": {},
     "output_type": "display_data"
    }
   ],
   "source": [
    "MyDataMonth5.plot.bar(x='Interval de temps',y='Nombres objets perdus',figsize=(14, 5),color=\"red\")"
   ]
  },
  {
   "cell_type": "code",
   "execution_count": 63,
   "metadata": {},
   "outputs": [
    {
     "data": {
      "text/plain": [
       "<AxesSubplot:xlabel='Interval de temps'>"
      ]
     },
     "execution_count": 63,
     "metadata": {},
     "output_type": "execute_result"
    },
    {
     "data": {
      "image/png": "[encoded data removed]",
      "text/plain": [
       "<Figure size 1008x360 with 1 Axes>"
      ]
     },
     "metadata": {},
     "output_type": "display_data"
    }
   ],
   "source": [
    "MyDataMonth5.plot.line(x='Interval de temps',y='Nombres objets perdus',figsize=(14, 5))"
   ]
  },
  {
   "cell_type": "code",
   "execution_count": 77,
   "metadata": {},
   "outputs": [
    {
     "data": {
      "text/plain": [
       "<AxesSubplot:xlabel='Interval de temps', ylabel='Nombres objets perdus'>"
      ]
     },
     "execution_count": 77,
     "metadata": {},
     "output_type": "execute_result"
    },
    {
     "data": {
      "image/png": "[encoded data removed]",
      "text/plain": [
       "<Figure size 1008x360 with 1 Axes>"
      ]
     },
     "metadata": {},
     "output_type": "display_data"
    }
   ],
   "source": [
    "MyDataMonth5.plot.scatter(x='Interval de temps',y='Nombres objets perdus',figsize=(14, 5))"
   ]
  },
  {
   "cell_type": "code",
   "execution_count": 65,
   "metadata": {},
   "outputs": [],
   "source": [
    "# Le fichier qui contient la régularité mensuelle des trains\n",
    "path2  =\"hdfs://localhost:9000/data/regularite-mensuelle-intercites.csv\""
   ]
  },
  {
   "cell_type": "code",
   "execution_count": 66,
   "metadata": {},
   "outputs": [],
   "source": [
    "trainsM = sparkSession.read.format(\"csv\").option(\"header\", \"true\").load(path2,delimiter=';')"
   ]
  },
  {
   "cell_type": "code",
   "execution_count": 67,
   "metadata": {},
   "outputs": [],
   "source": [
    "trainsM =trainsM.withColumn(\"date_timestamp\",to_timestamp(col(\"date\"),\"yyyy-MM\"))"
   ]
  },
  {
   "cell_type": "code",
   "execution_count": 68,
   "metadata": {},
   "outputs": [],
   "source": [
    "trainsM = trainsM.withColumn(\"year\",year(col(\"date_timestamp\")))\n",
    "trainsM = trainsM.withColumn(\"month\",month(col(\"date_timestamp\")))"
   ]
  },
  {
   "cell_type": "code",
   "execution_count": 69,
   "metadata": {},
   "outputs": [],
   "source": [
    "trainAnneprecis = trainsM.where(col(\"year\") == '2019')"
   ]
  },
  {
   "cell_type": "code",
   "execution_count": 71,
   "metadata": {},
   "outputs": [],
   "source": [
    "trainAnneprecis.write.format(\"csv\").save(\"/home/datacreapper/Bureau/ProjectBigDataVis/Données/Donnees/trainMoisprecis_\")"
   ]
  },
  {
   "cell_type": "code",
   "execution_count": 72,
   "metadata": {},
   "outputs": [],
   "source": [
    "# d'abord on doit transformé le taux_de_régularité de string vers numerique\n",
    "trainAnneprecis = trainAnneprecis.withColumn(\"taux_de_regularite\",col(\"taux_de_regularite\").cast('float'))"
   ]
  },
  {
   "cell_type": "code",
   "execution_count": 73,
   "metadata": {},
   "outputs": [],
   "source": [
    "# j'ai défini une fonction regul \n",
    "@udf(returnType = FloatType())\n",
    "def regul(tauxRegul):\n",
    "    return 100 - tauxRegul"
   ]
  },
  {
   "cell_type": "code",
   "execution_count": 74,
   "metadata": {},
   "outputs": [],
   "source": [
    "mydataTrain = trainAnneprecis.groupBy('month').agg(avg('taux_de_regularite').alias('taux_de_perturbation')).orderBy('taux_de_perturbation')"
   ]
  },
  {
   "cell_type": "code",
   "execution_count": 117,
   "metadata": {
    "scrolled": true
   },
   "outputs": [],
   "source": [
    "df8 = mydataTrain.withColumn(\"taux_de_perturbation\",regul(\"taux_de_perturbation\"))\n",
    "# Le tableau se lit de la la maniére suivante : le mois de juin 21% des trains sont perturbé\n",
    "# le tableau represent le taux de régularité des mois pour l'année 2019"
   ]
  },
  {
   "cell_type": "code",
   "execution_count": null,
   "metadata": {},
   "outputs": [],
   "source": []
  },
  {
   "cell_type": "code",
   "execution_count": 118,
   "metadata": {},
   "outputs": [],
   "source": [
    "list_months = df8.rdd.map(lambda x: x[0]).collect()\n",
    "list_count_perturbation = df8.rdd.map(lambda x: x[1]).collect()"
   ]
  },
  {
   "cell_type": "code",
   "execution_count": 119,
   "metadata": {},
   "outputs": [
    {
     "data": {
      "text/plain": [
       "[21.699430465698242,\n",
       " 19.657194137573242,\n",
       " 16.880237579345703,\n",
       " 15.49277114868164,\n",
       " 15.417223930358887,\n",
       " 15.004731178283691,\n",
       " 13.990485191345215,\n",
       " 13.167597770690918,\n",
       " 12.752555847167969,\n",
       " 11.183981895446777,\n",
       " 10.789621353149414,\n",
       " 10.63183879852295]"
      ]
     },
     "execution_count": 119,
     "metadata": {},
     "output_type": "execute_result"
    }
   ],
   "source": [
    "list_count_perturbation"
   ]
  },
  {
   "cell_type": "code",
   "execution_count": 122,
   "metadata": {},
   "outputs": [
    {
     "data": {
      "image/png": "[encoded data removed]",
      "text/plain": [
       "<Figure size 864x576 with 1 Axes>"
      ]
     },
     "metadata": {},
     "output_type": "display_data"
    }
   ],
   "source": [
    "plt.figure(figsize=(12, 8))\n",
    "plt.bar(list_months, list_count_perturbation)\n",
    "plt.show()"
   ]
  },
  {
   "cell_type": "code",
   "execution_count": 98,
   "metadata": {},
   "outputs": [
    {
     "name": "stdout",
     "output_type": "stream",
     "text": [
      "+-----+-----+\n",
      "|month|count|\n",
      "+-----+-----+\n",
      "|   12| 7603|\n",
      "|    2|14186|\n",
      "|   11|15263|\n",
      "|    3|15330|\n",
      "|    5|15733|\n",
      "|    1|15800|\n",
      "|    8|16130|\n",
      "|    4|16262|\n",
      "|   10|16569|\n",
      "|    9|16736|\n",
      "|    6|16978|\n",
      "|    7|18476|\n",
      "+-----+-----+\n",
      "\n"
     ]
    }
   ],
   "source": [
    "# Ici je vais comparer la régularité des trains par rapport au nombre d'objet déclaré perdu par mois\n",
    "# df5 contient les objets déclaré perdu pendant l'année 2019\n",
    "df5 = donneAnneprecis\n",
    "\n",
    "df5.groupBy('month').count().orderBy('count').show()\n",
    "#le tableau ci dessous se lit de la maniére suivante: en mois de juin presque 17k objets on ete déclaré perdu\n",
    "# Le but est de faire un graphe d'evolution de deux lignes pour comparer entre les mois \n",
    "# et cela entre les dataframe df5 et mydataTrain"
   ]
  },
  {
   "cell_type": "code",
   "execution_count": null,
   "metadata": {},
   "outputs": [],
   "source": []
  }
 ],
 "metadata": {
  "kernelspec": {
   "display_name": "Python 3",
   "language": "python",
   "name": "python3"
  },
  "language_info": {
   "codemirror_mode": {
    "name": "ipython",
    "version": 3
   },
   "file_extension": ".py",
   "mimetype": "text/x-python",
   "name": "python",
   "nbconvert_exporter": "python",
   "pygments_lexer": "ipython3",
   "version": "3.6.9"
  }
 },
 "nbformat": 4,
 "nbformat_minor": 2
}
