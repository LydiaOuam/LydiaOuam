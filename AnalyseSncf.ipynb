{
 "cells": [
  {
   "cell_type": "code",
   "execution_count": 1,
   "id": "2e04ec29",
   "metadata": {},
   "outputs": [],
   "source": [
    "#a regarder sur le cluster \n",
    "from pyspark.sql import SparkSession"
   ]
  },
  {
   "cell_type": "code",
   "execution_count": 2,
   "id": "47ceaf57",
   "metadata": {},
   "outputs": [
    {
     "name": "stderr",
     "output_type": "stream",
     "text": [
      "Setting default log level to \"WARN\".\n",
      "To adjust logging level use sc.setLogLevel(newLevel). For SparkR, use setLogLevel(newLevel).\n"
     ]
    },
    {
     "name": "stdout",
     "output_type": "stream",
     "text": [
      "22/11/13 15:27:16 WARN NativeCodeLoader: Unable to load native-hadoop library for your platform... using builtin-java classes where applicable\n"
     ]
    }
   ],
   "source": [
    "spark = SparkSession.builder.getOrCreate()"
   ]
  },
  {
   "cell_type": "code",
   "execution_count": 3,
   "id": "14a7c5ca",
   "metadata": {},
   "outputs": [],
   "source": [
    "# le but de le faire sur hadoop\n",
    "path  = \"/Users/lydiapc/Desktop/TP1/docker-hadoop/Donnees/objets-trouves-restitution.csv\""
   ]
  },
  {
   "cell_type": "code",
   "execution_count": 4,
   "id": "1e9913d0",
   "metadata": {},
   "outputs": [],
   "source": [
    "df = spark.read.format(\"csv\").option(\"header\", \"true\").load(path,delimiter=';')"
   ]
  },
  {
   "cell_type": "code",
   "execution_count": 5,
   "id": "57065de4",
   "metadata": {},
   "outputs": [],
   "source": [
    "from pyspark.sql import functions as F"
   ]
  },
  {
   "cell_type": "code",
   "execution_count": 6,
   "id": "29ca7f4f",
   "metadata": {},
   "outputs": [],
   "source": [
    "mylist = df.groupBy([\"Nature d'objets\"]).count()"
   ]
  },
  {
   "cell_type": "code",
   "execution_count": 7,
   "id": "f7e43eec",
   "metadata": {},
   "outputs": [],
   "source": [
    "mylist = mylist.orderBy('count', ascending=False)"
   ]
  },
  {
   "cell_type": "code",
   "execution_count": 8,
   "id": "64b200d4",
   "metadata": {},
   "outputs": [],
   "source": [
    "mylist = mylist.withColumnRenamed(\"count\",\"countTrouv\")"
   ]
  },
  {
   "cell_type": "code",
   "execution_count": 9,
   "id": "3bb128a4",
   "metadata": {},
   "outputs": [
    {
     "name": "stderr",
     "output_type": "stream",
     "text": [
      "\r",
      "[Stage 1:>                                                          (0 + 8) / 8]\r"
     ]
    },
    {
     "name": "stdout",
     "output_type": "stream",
     "text": [
      "+--------------------+----------+\n",
      "|     Nature d'objets|countTrouv|\n",
      "+--------------------+----------+\n",
      "|Porte-monnaie, po...|     68638|\n",
      "|           Sac à dos|     61922|\n",
      "|  Téléphone portable|     58858|\n",
      "|Valise, sac sur r...|     51312|\n",
      "|Manteau, veste, b...|     49050|\n",
      "|Sac de voyage, sa...|     42730|\n",
      "|    Clés, porte-clés|     31351|\n",
      "|Carte d'identité,...|     28121|\n",
      "|Sac d'enseigne (p...|     23656|\n",
      "|            Lunettes|     23327|\n",
      "|          Sac à main|     18403|\n",
      "|     Carte de crédit|     16950|\n",
      "|    Lunettes en étui|     16462|\n",
      "|       Autres divers|     15178|\n",
      "|Téléphone portabl...|     14077|\n",
      "|     Bonnet, chapeau|     13281|\n",
      "|    Foulard, écharpe|     12344|\n",
      "|  Carte d'abonnement|     11820|\n",
      "|Pièce d'identité ...|     10519|\n",
      "|Autre pièce ou pa...|      9222|\n",
      "+--------------------+----------+\n",
      "only showing top 20 rows\n",
      "\n"
     ]
    },
    {
     "name": "stderr",
     "output_type": "stream",
     "text": [
      "\r",
      "                                                                                \r"
     ]
    }
   ],
   "source": [
    "mylist.show()"
   ]
  },
  {
   "cell_type": "code",
   "execution_count": null,
   "id": "0f998a90",
   "metadata": {},
   "outputs": [],
   "source": [
    "#on n'en a pas besoin\n",
    "#mylist.write.format(\"csv\").save(\"/Users/lydiapc/Desktop/TP1/docker-hadoop/Donnees/objets-trouves\")"
   ]
  },
  {
   "cell_type": "markdown",
   "id": "dca7c8c0",
   "metadata": {},
   "source": [
    "Visualiser les \" dataFrame avec des Bar Empilés"
   ]
  },
  {
   "cell_type": "code",
   "execution_count": 10,
   "id": "eb0a9984",
   "metadata": {},
   "outputs": [],
   "source": [
    "mylist1 = mylist.take(10)"
   ]
  },
  {
   "cell_type": "code",
   "execution_count": 11,
   "id": "ccb674d5",
   "metadata": {},
   "outputs": [],
   "source": [
    "import matplotlib.pyplot as plt\n",
    "import seaborn as sns\n",
    "import pandas as pd"
   ]
  },
  {
   "cell_type": "code",
   "execution_count": 12,
   "id": "62a513ec",
   "metadata": {},
   "outputs": [],
   "source": [
    "df = pd.DataFrame (mylist1, columns = ['NatureObjet','countTrouv'])"
   ]
  },
  {
   "cell_type": "code",
   "execution_count": 13,
   "id": "2f497d67",
   "metadata": {},
   "outputs": [
    {
     "data": {
      "image/png": "[encoded data removed]",
      "text/plain": [
       "<Figure size 432x288 with 1 Axes>"
      ]
     },
     "metadata": {
      "needs_background": "light"
     },
     "output_type": "display_data"
    }
   ],
   "source": [
    "df.plot(x=\"NatureObjet\",y=\"countTrouv\",kind='bar') ; plt.show()"
   ]
  },
  {
   "cell_type": "code",
   "execution_count": 14,
   "id": "9cdf10bb",
   "metadata": {},
   "outputs": [],
   "source": [
    "from pyspark.sql.functions import col"
   ]
  },
  {
   "cell_type": "code",
   "execution_count": 15,
   "id": "8984df09",
   "metadata": {},
   "outputs": [],
   "source": [
    "df1 = spark.read.format(\"csv\").option(\"header\", \"true\").load(path,delimiter=';')"
   ]
  },
  {
   "cell_type": "code",
   "execution_count": 16,
   "id": "962e93ab",
   "metadata": {},
   "outputs": [],
   "source": [
    "df2objetResti = df1.filter(col(\"Date et heure de restitution\").isNotNull())"
   ]
  },
  {
   "cell_type": "code",
   "execution_count": 17,
   "id": "352d6638",
   "metadata": {},
   "outputs": [],
   "source": [
    "mylistRest = df2objetResti.groupBy([\"Nature d'objets\"]).count()"
   ]
  },
  {
   "cell_type": "code",
   "execution_count": 18,
   "id": "044cac9d",
   "metadata": {},
   "outputs": [],
   "source": [
    "mylistRest = mylistRest.orderBy('count', ascending=False)"
   ]
  },
  {
   "cell_type": "code",
   "execution_count": 19,
   "id": "7ba78fde",
   "metadata": {},
   "outputs": [],
   "source": [
    "mylistRest = mylistRest.withColumnRenamed(\"count\",\"countRes\")"
   ]
  },
  {
   "cell_type": "code",
   "execution_count": 20,
   "id": "6c79da6b",
   "metadata": {},
   "outputs": [
    {
     "data": {
      "text/plain": [
       "128"
      ]
     },
     "execution_count": 20,
     "metadata": {},
     "output_type": "execute_result"
    }
   ],
   "source": [
    "mylistRest.count()"
   ]
  },
  {
   "cell_type": "code",
   "execution_count": 21,
   "id": "27630967",
   "metadata": {},
   "outputs": [
    {
     "name": "stdout",
     "output_type": "stream",
     "text": [
      "+--------------------+--------+\n",
      "|     Nature d'objets|countRes|\n",
      "+--------------------+--------+\n",
      "|Porte-monnaie, po...|   36163|\n",
      "|Valise, sac sur r...|   32561|\n",
      "|           Sac à dos|   31606|\n",
      "|  Téléphone portable|   25227|\n",
      "|Sac de voyage, sa...|   21807|\n",
      "|Manteau, veste, b...|   12709|\n",
      "|          Sac à main|   11026|\n",
      "|Carte d'identité,...|    8192|\n",
      "|Téléphone portabl...|    8119|\n",
      "|Sac d'enseigne (p...|    6916|\n",
      "|Ordinateur, ordin...|    5765|\n",
      "|    Clés, porte-clés|    5438|\n",
      "|Sacoche ventrale,...|    3585|\n",
      "|       Autres divers|    2981|\n",
      "|Sacoche pour ordi...|    2752|\n",
      "|Pièce d'identité ...|    2504|\n",
      "|     Autre bagagerie|    2483|\n",
      "|    Lunettes en étui|    2470|\n",
      "|     Carte de crédit|    2348|\n",
      "|Tablette tactile ...|    2344|\n",
      "+--------------------+--------+\n",
      "only showing top 20 rows\n",
      "\n"
     ]
    }
   ],
   "source": [
    "mylistRest.show()\n",
    "#Un graphe pour voir la relation entre les objets restitué et les objets trouvés"
   ]
  },
  {
   "cell_type": "code",
   "execution_count": null,
   "id": "d71fb12c",
   "metadata": {},
   "outputs": [],
   "source": [
    "#OIn peut enlever\n",
    "#mylistRest.write.format(\"csv\").save(\"/Users/lydiapc/Desktop/TP1/docker-hadoop/Donnees/objets-restitue\")"
   ]
  },
  {
   "cell_type": "code",
   "execution_count": 22,
   "id": "921fc142",
   "metadata": {},
   "outputs": [],
   "source": [
    "# Jointure entre les deux liste\n",
    "myListJoined = mylistRest.join(mylist,[\"Nature d'objets\"])"
   ]
  },
  {
   "cell_type": "code",
   "execution_count": 23,
   "id": "2979ae0e",
   "metadata": {},
   "outputs": [],
   "source": [
    "from pyspark.sql import functions as F"
   ]
  },
  {
   "cell_type": "code",
   "execution_count": 24,
   "id": "9f43dfb4",
   "metadata": {},
   "outputs": [],
   "source": [
    "from pyspark.sql.types     import *\n",
    "from pyspark.sql.functions import udf\n",
    "\n",
    "@udf(returnType = FloatType())\n",
    "def diff(colonRes,colonTrouv):\n",
    "    return colonRes*100/colonTrouv"
   ]
  },
  {
   "cell_type": "code",
   "execution_count": 25,
   "id": "2edf0ceb",
   "metadata": {},
   "outputs": [],
   "source": [
    "# le pourcentage d'objet restituées \n",
    "myListJoined=myListJoined.withColumn(\"Pourcentage\",diff(\"countRes\",\"countTrouv\"))"
   ]
  },
  {
   "cell_type": "code",
   "execution_count": 26,
   "id": "03f2db2d",
   "metadata": {},
   "outputs": [],
   "source": [
    "myListJoined = myListJoined.orderBy('Pourcentage', ascending=False)"
   ]
  },
  {
   "cell_type": "code",
   "execution_count": 27,
   "id": "d81b656b",
   "metadata": {},
   "outputs": [
    {
     "name": "stdout",
     "output_type": "stream",
     "text": [
      "+--------------------+--------+----------+-----------+\n",
      "|     Nature d'objets|countRes|countTrouv|Pourcentage|\n",
      "+--------------------+--------+----------+-----------+\n",
      "|              Violon|     130|       166|  78.313255|\n",
      "|Appareils respira...|     147|       200|       73.5|\n",
      "|Ordinateur, ordin...|    2330|      3260|   71.47239|\n",
      "|               Flûte|      38|        54|   70.37037|\n",
      "|Ordinateur, ordin...|    5765|      8497|   67.84747|\n",
      "|        Club de golf|      38|        58|   65.51724|\n",
      "|Valise, sac sur r...|   32561|     51312|   63.45689|\n",
      "|             Guitare|     462|       734|   62.94278|\n",
      "|Autres instrument...|     501|       832|  60.216347|\n",
      "|          Sac à main|   11026|     18403|  59.914143|\n",
      "|Sacoche pour ordi...|    2752|      4672|   58.90411|\n",
      "|Attaché-case, ser...|    2054|      3528|  58.219955|\n",
      "|Sacoche ventrale,...|    3585|      6160|   58.19805|\n",
      "|Téléphone portabl...|    8119|     14077|   57.67564|\n",
      "|  Housse de vêtement|     243|       429|  56.643356|\n",
      "|Porte-monnaie, po...|   36163|     68638|  52.686558|\n",
      "|Tablette tactile ...|    2344|      4476|  52.368187|\n",
      "|           Sac à dos|   31606|     61922|  51.041634|\n",
      "|Sac de voyage, sa...|   21807|     42730|    51.0344|\n",
      "|           Snowboard|      18|        37|  48.648647|\n",
      "+--------------------+--------+----------+-----------+\n",
      "only showing top 20 rows\n",
      "\n"
     ]
    },
    {
     "name": "stderr",
     "output_type": "stream",
     "text": [
      "\r",
      "[Stage 22:>                                                         (0 + 1) / 1]\r",
      "\r",
      "                                                                                \r"
     ]
    }
   ],
   "source": [
    "myListJoined.show()"
   ]
  },
  {
   "cell_type": "code",
   "execution_count": 28,
   "id": "d6b07022",
   "metadata": {},
   "outputs": [],
   "source": [
    "# Le fichier qui contient les objets déclarés perdu\n",
    "path1  = \"/Users/lydiapc/Desktop/TP1/docker-hadoop/Donnees/objets-trouves-gares.csv\""
   ]
  },
  {
   "cell_type": "code",
   "execution_count": 29,
   "id": "f1b5e2d3",
   "metadata": {},
   "outputs": [],
   "source": [
    "df3 = spark.read.format(\"csv\").option(\"header\", \"true\").load(path1,delimiter=';')"
   ]
  },
  {
   "cell_type": "code",
   "execution_count": 30,
   "id": "c420642c",
   "metadata": {},
   "outputs": [
    {
     "data": {
      "text/plain": [
       "[('Date de la déclaration de perte', 'string'),\n",
       " ('Gare', 'string'),\n",
       " ('Code UIC', 'string'),\n",
       " (\"Nature d'objets\", 'string'),\n",
       " (\"Type d'objets\", 'string'),\n",
       " (\"Type d'enregistrement\", 'string')]"
      ]
     },
     "execution_count": 30,
     "metadata": {},
     "output_type": "execute_result"
    }
   ],
   "source": [
    "df3.dtypes"
   ]
  },
  {
   "cell_type": "code",
   "execution_count": 31,
   "id": "c688ebcb",
   "metadata": {},
   "outputs": [],
   "source": [
    "mylistDec = df3.groupBy([\"Nature d'objets\"]).count()\n",
    "mylistDec = mylistDec.orderBy('count', ascending=False)\n",
    "mylistDec = mylistDec.withColumnRenamed(\"count\",\"countDec\")"
   ]
  },
  {
   "cell_type": "code",
   "execution_count": 32,
   "id": "ee75dd38",
   "metadata": {},
   "outputs": [
    {
     "name": "stdout",
     "output_type": "stream",
     "text": [
      "+--------------------+--------+\n",
      "|     Nature d'objets|countDec|\n",
      "+--------------------+--------+\n",
      "|Porte-monnaie, po...|  136609|\n",
      "|           Sac à dos|  113851|\n",
      "|  Téléphone portable|  111741|\n",
      "|Valise, sac sur r...|   96396|\n",
      "|Manteau, veste, b...|   88029|\n",
      "|Sac de voyage, sa...|   75146|\n",
      "|    Clés, porte-clés|   57990|\n",
      "|Carte d'identité,...|   49573|\n",
      "|Sac d'enseigne (p...|   43331|\n",
      "|       Autres divers|   43010|\n",
      "|            Lunettes|   42941|\n",
      "|    Lunettes en étui|   39667|\n",
      "|          Sac à main|   36754|\n",
      "|Téléphone portabl...|   35344|\n",
      "|Ordinateur, ordin...|   30302|\n",
      "|Autres appareils ...|   26369|\n",
      "|     Bonnet, chapeau|   26291|\n",
      "|  Carte d'abonnement|   22859|\n",
      "|     Autre bagagerie|   20769|\n",
      "|    Foulard, écharpe|   18782|\n",
      "+--------------------+--------+\n",
      "only showing top 20 rows\n",
      "\n"
     ]
    }
   ],
   "source": [
    "mylistDec.show()"
   ]
  },
  {
   "cell_type": "code",
   "execution_count": 33,
   "id": "8cf1a854",
   "metadata": {},
   "outputs": [],
   "source": [
    "myListJoinedDecRes = mylistDec.join(mylist,[\"Nature d'objets\"])"
   ]
  },
  {
   "cell_type": "code",
   "execution_count": 34,
   "id": "3190706a",
   "metadata": {},
   "outputs": [
    {
     "name": "stdout",
     "output_type": "stream",
     "text": [
      "+--------------------+--------+----------+\n",
      "|     Nature d'objets|countDec|countTrouv|\n",
      "+--------------------+--------+----------+\n",
      "|  Autres jeux/jouets|    1010|       510|\n",
      "|Autres articles m...|    1933|       932|\n",
      "|Autres articles d...|   14796|      3785|\n",
      "|      Jeu de société|     338|       116|\n",
      "|           Après-ski|      48|        13|\n",
      "|Disque dur extern...|    7530|      1205|\n",
      "|          Skateboard|    1641|       642|\n",
      "|Attaché-case, ser...|    8750|      3528|\n",
      "|    Pull over, gilet|   13353|      9049|\n",
      "|           Sac à dos|  113851|     61922|\n",
      "|       Autres bijoux|     981|       222|\n",
      "|Porte-monnaie, po...|  136609|     68638|\n",
      "|     Chemise à rabat|    5215|      1964|\n",
      "|  Appareils auditifs|    1310|       246|\n",
      "|Sac d'enseigne (p...|   43331|     23656|\n",
      "|        Club de golf|     127|        58|\n",
      "|  Téléphone portable|  111741|     58858|\n",
      "|Pièce d'identité ...|   17784|     10519|\n",
      "|  Housse de vêtement|     865|       429|\n",
      "|Manteau, veste, b...|   88029|     49050|\n",
      "+--------------------+--------+----------+\n",
      "only showing top 20 rows\n",
      "\n"
     ]
    }
   ],
   "source": [
    "myListJoinedDecRes.show()\n",
    "# Reste a voir comment visualiser tout ça"
   ]
  },
  {
   "cell_type": "markdown",
   "id": "d5ab5e1e",
   "metadata": {},
   "source": [
    "#Transform the Date from a string to a timestamp (Date)\n",
    "#Relation entre les declaration de perte et la régularité mensuelle"
   ]
  },
  {
   "cell_type": "code",
   "execution_count": 35,
   "id": "44974372",
   "metadata": {},
   "outputs": [],
   "source": [
    "from pyspark.sql.functions import *\n",
    "from pyspark.sql import Window\n",
    "import pandas as pd\n"
   ]
  },
  {
   "cell_type": "code",
   "execution_count": 36,
   "id": "91f8f14e",
   "metadata": {},
   "outputs": [],
   "source": [
    "df4=df3.withColumn(\"Date_timestamp\",to_timestamp(col(\"Date de la déclaration de perte\"),\"yyyy-MM-dd'T'HH:mm:ss\"))"
   ]
  },
  {
   "cell_type": "markdown",
   "id": "27e97cb8",
   "metadata": {},
   "source": [
    "Pour ce traitemant on va d'abord se focaliser sur un mois précis et puis on va regarder les \n",
    "intervalles des horaires"
   ]
  },
  {
   "cell_type": "code",
   "execution_count": 37,
   "id": "bd9ba199",
   "metadata": {},
   "outputs": [],
   "source": [
    "df4 = df4.withColumn(\"year\",year(col(\"Date_timestamp\")))\n",
    "df4 = df4.withColumn(\"month\",month(col(\"Date_timestamp\")))\n",
    "df4 = df4.withColumn(\"hour\",hour(col(\"Date_timestamp\")))\n",
    "df4 = df4.withColumn(\"minute\",minute(col(\"Date_timestamp\")))"
   ]
  },
  {
   "cell_type": "code",
   "execution_count": 38,
   "id": "5131c61a",
   "metadata": {},
   "outputs": [],
   "source": [
    "donneAnneprecis = df4.where(col(\"year\") == '2019')\n",
    "donneMoisprecis = donneAnneprecis.where(col(\"month\") == '5')"
   ]
  },
  {
   "cell_type": "code",
   "execution_count": 39,
   "id": "bfb203d4",
   "metadata": {},
   "outputs": [],
   "source": [
    "donneMoisprecis = donneMoisprecis.orderBy('hour','minute', ascending = True)"
   ]
  },
  {
   "cell_type": "code",
   "execution_count": null,
   "id": "57e1c498",
   "metadata": {},
   "outputs": [],
   "source": [
    "#C'est pour voir le fichier resultat mais sinon y a pas besoin\n",
    "#donneMoisprecis.write.format(\"csv\").save(\"/Users/lydiapc/Desktop/TP1/docker-hadoop/Donnees/donneMoisprecis\")"
   ]
  },
  {
   "cell_type": "code",
   "execution_count": 41,
   "id": "ce06af0e",
   "metadata": {},
   "outputs": [
    {
     "name": "stderr",
     "output_type": "stream",
     "text": [
      "                                                                                \r"
     ]
    }
   ],
   "source": [
    "\n",
    "listInterval = []\n",
    "listNumber = []\n",
    "for i in range(22):\n",
    "    a = donneMoisprecis.where(col(\"hour\").between(i,i+2)).count()\n",
    "    chaine = \"[\"+str(i)+','+str(i+2)+\"]\"\n",
    "    listInterval.append(chaine)\n",
    "    listNumber.append(a)"
   ]
  },
  {
   "cell_type": "code",
   "execution_count": 42,
   "id": "02ea3e1f",
   "metadata": {},
   "outputs": [],
   "source": [
    "MyDataMonth5 = pd.DataFrame(list(zip(listInterval,listNumber)), columns = ['Interval','Nombres'])"
   ]
  },
  {
   "cell_type": "code",
   "execution_count": 43,
   "id": "e4dfc011",
   "metadata": {},
   "outputs": [
    {
     "data": {
      "text/html": [
       "<div>\n",
       "<style scoped>\n",
       "    .dataframe tbody tr th:only-of-type {\n",
       "        vertical-align: middle;\n",
       "    }\n",
       "\n",
       "    .dataframe tbody tr th {\n",
       "        vertical-align: top;\n",
       "    }\n",
       "\n",
       "    .dataframe thead th {\n",
       "        text-align: right;\n",
       "    }\n",
       "</style>\n",
       "<table border=\"1\" class=\"dataframe\">\n",
       "  <thead>\n",
       "    <tr style=\"text-align: right;\">\n",
       "      <th></th>\n",
       "      <th>Interval</th>\n",
       "      <th>Nombres</th>\n",
       "    </tr>\n",
       "  </thead>\n",
       "  <tbody>\n",
       "    <tr>\n",
       "      <th>0</th>\n",
       "      <td>[0,2]</td>\n",
       "      <td>277</td>\n",
       "    </tr>\n",
       "    <tr>\n",
       "      <th>1</th>\n",
       "      <td>[1,3]</td>\n",
       "      <td>99</td>\n",
       "    </tr>\n",
       "    <tr>\n",
       "      <th>2</th>\n",
       "      <td>[2,4]</td>\n",
       "      <td>59</td>\n",
       "    </tr>\n",
       "    <tr>\n",
       "      <th>3</th>\n",
       "      <td>[3,5]</td>\n",
       "      <td>46</td>\n",
       "    </tr>\n",
       "    <tr>\n",
       "      <th>4</th>\n",
       "      <td>[4,6]</td>\n",
       "      <td>107</td>\n",
       "    </tr>\n",
       "    <tr>\n",
       "      <th>5</th>\n",
       "      <td>[5,7]</td>\n",
       "      <td>312</td>\n",
       "    </tr>\n",
       "    <tr>\n",
       "      <th>6</th>\n",
       "      <td>[6,8]</td>\n",
       "      <td>1091</td>\n",
       "    </tr>\n",
       "    <tr>\n",
       "      <th>7</th>\n",
       "      <td>[7,9]</td>\n",
       "      <td>2250</td>\n",
       "    </tr>\n",
       "    <tr>\n",
       "      <th>8</th>\n",
       "      <td>[8,10]</td>\n",
       "      <td>3310</td>\n",
       "    </tr>\n",
       "    <tr>\n",
       "      <th>9</th>\n",
       "      <td>[9,11]</td>\n",
       "      <td>3749</td>\n",
       "    </tr>\n",
       "    <tr>\n",
       "      <th>10</th>\n",
       "      <td>[10,12]</td>\n",
       "      <td>3592</td>\n",
       "    </tr>\n",
       "    <tr>\n",
       "      <th>11</th>\n",
       "      <td>[11,13]</td>\n",
       "      <td>3344</td>\n",
       "    </tr>\n",
       "    <tr>\n",
       "      <th>12</th>\n",
       "      <td>[12,14]</td>\n",
       "      <td>3226</td>\n",
       "    </tr>\n",
       "    <tr>\n",
       "      <th>13</th>\n",
       "      <td>[13,15]</td>\n",
       "      <td>3264</td>\n",
       "    </tr>\n",
       "    <tr>\n",
       "      <th>14</th>\n",
       "      <td>[14,16]</td>\n",
       "      <td>3403</td>\n",
       "    </tr>\n",
       "    <tr>\n",
       "      <th>15</th>\n",
       "      <td>[15,17]</td>\n",
       "      <td>3436</td>\n",
       "    </tr>\n",
       "    <tr>\n",
       "      <th>16</th>\n",
       "      <td>[16,18]</td>\n",
       "      <td>3394</td>\n",
       "    </tr>\n",
       "    <tr>\n",
       "      <th>17</th>\n",
       "      <td>[17,19]</td>\n",
       "      <td>3258</td>\n",
       "    </tr>\n",
       "    <tr>\n",
       "      <th>18</th>\n",
       "      <td>[18,20]</td>\n",
       "      <td>2676</td>\n",
       "    </tr>\n",
       "    <tr>\n",
       "      <th>19</th>\n",
       "      <td>[19,21]</td>\n",
       "      <td>2105</td>\n",
       "    </tr>\n",
       "    <tr>\n",
       "      <th>20</th>\n",
       "      <td>[20,22]</td>\n",
       "      <td>1501</td>\n",
       "    </tr>\n",
       "    <tr>\n",
       "      <th>21</th>\n",
       "      <td>[21,23]</td>\n",
       "      <td>1232</td>\n",
       "    </tr>\n",
       "  </tbody>\n",
       "</table>\n",
       "</div>"
      ],
      "text/plain": [
       "   Interval  Nombres\n",
       "0     [0,2]      277\n",
       "1     [1,3]       99\n",
       "2     [2,4]       59\n",
       "3     [3,5]       46\n",
       "4     [4,6]      107\n",
       "5     [5,7]      312\n",
       "6     [6,8]     1091\n",
       "7     [7,9]     2250\n",
       "8    [8,10]     3310\n",
       "9    [9,11]     3749\n",
       "10  [10,12]     3592\n",
       "11  [11,13]     3344\n",
       "12  [12,14]     3226\n",
       "13  [13,15]     3264\n",
       "14  [14,16]     3403\n",
       "15  [15,17]     3436\n",
       "16  [16,18]     3394\n",
       "17  [17,19]     3258\n",
       "18  [18,20]     2676\n",
       "19  [19,21]     2105\n",
       "20  [20,22]     1501\n",
       "21  [21,23]     1232"
      ]
     },
     "execution_count": 43,
     "metadata": {},
     "output_type": "execute_result"
    }
   ],
   "source": [
    "# Dans ce dataFrame on peut voir le nombre d'objet perdu entre diff intervalle de temps exemple entre 0h et 2h \n",
    "# on a 277 déclaration de perte \n",
    "MyDataMonth5"
   ]
  },
  {
   "cell_type": "code",
   "execution_count": 44,
   "id": "3513ae22",
   "metadata": {},
   "outputs": [],
   "source": [
    "# Le fichier qui contient la régularité mensuelle des trains\n",
    "path2  = \"/Users/lydiapc/Desktop/TP1/docker-hadoop/Donnees/regularite-mensuelle-intercites.csv\""
   ]
  },
  {
   "cell_type": "code",
   "execution_count": 45,
   "id": "5a175502",
   "metadata": {},
   "outputs": [],
   "source": [
    "trainsM = spark.read.format(\"csv\").option(\"header\", \"true\").load(path2,delimiter=';')"
   ]
  },
  {
   "cell_type": "code",
   "execution_count": 46,
   "id": "e68b0cd2",
   "metadata": {},
   "outputs": [],
   "source": [
    "trainsM =trainsM.withColumn(\"date_timestamp\",to_timestamp(col(\"date\"),\"yyyy-MM\"))"
   ]
  },
  {
   "cell_type": "code",
   "execution_count": 47,
   "id": "d8c1004f",
   "metadata": {},
   "outputs": [],
   "source": [
    "trainsM = trainsM.withColumn(\"year\",year(col(\"date_timestamp\")))\n",
    "trainsM = trainsM.withColumn(\"month\",month(col(\"date_timestamp\")))"
   ]
  },
  {
   "cell_type": "code",
   "execution_count": 48,
   "id": "98a60db0",
   "metadata": {},
   "outputs": [],
   "source": [
    "trainAnneprecis = trainsM.where(col(\"year\") == '2019')"
   ]
  },
  {
   "cell_type": "code",
   "execution_count": 49,
   "id": "40fe8ff5",
   "metadata": {},
   "outputs": [],
   "source": [
    "#trainAnneprecis.write.format(\"csv\").save(\"/Users/lydiapc/Desktop/TP1/docker-hadoop/Donnees/trainMoisprecis\")"
   ]
  },
  {
   "cell_type": "code",
   "execution_count": 50,
   "id": "dfa68215",
   "metadata": {},
   "outputs": [],
   "source": [
    "# d'abord on doit transformé le taux_de_régularité de string vers numerique\n",
    "trainAnneprecis = trainAnneprecis.withColumn(\"taux_de_regularite\",col(\"taux_de_regularite\").cast('float'))"
   ]
  },
  {
   "cell_type": "code",
   "execution_count": 51,
   "id": "a660fab8",
   "metadata": {},
   "outputs": [],
   "source": [
    "# j'ai défini une fonction regul \n",
    "@udf(returnType = FloatType())\n",
    "def regul(tauxRegul):\n",
    "    return 100 - tauxRegul"
   ]
  },
  {
   "cell_type": "code",
   "execution_count": 52,
   "id": "fecfe2e9",
   "metadata": {},
   "outputs": [],
   "source": [
    "mydataTrain = trainAnneprecis.groupBy('month').agg(avg('taux_de_regularite').alias('taux_de_perturbation')).orderBy('taux_de_perturbation')"
   ]
  },
  {
   "cell_type": "code",
   "execution_count": 53,
   "id": "85a23a64",
   "metadata": {},
   "outputs": [
    {
     "name": "stdout",
     "output_type": "stream",
     "text": [
      "+-----+--------------------+\n",
      "|month|taux_de_perturbation|\n",
      "+-----+--------------------+\n",
      "|    6|            21.69943|\n",
      "|   12|           19.657194|\n",
      "|   11|           16.880238|\n",
      "|   10|           15.492771|\n",
      "|    7|           15.417224|\n",
      "|    5|           15.004731|\n",
      "|    4|           13.990485|\n",
      "|    2|           13.167598|\n",
      "|    8|           12.752556|\n",
      "|    9|           11.183982|\n",
      "|    3|           10.789621|\n",
      "|    1|           10.631839|\n",
      "+-----+--------------------+\n",
      "\n"
     ]
    }
   ],
   "source": [
    "mydataTrain.withColumn(\"taux_de_perturbation\",regul(\"taux_de_perturbation\")).show()\n",
    "# Le tableau se lit de la la maniére suivante : le mois de juin 21% des trains sont perturbé\n",
    "# le tableau represent le taux de régularité des mois pour l'année 2019"
   ]
  },
  {
   "cell_type": "code",
   "execution_count": 54,
   "id": "d55ef391",
   "metadata": {},
   "outputs": [
    {
     "name": "stdout",
     "output_type": "stream",
     "text": [
      "+-----+-----+\n",
      "|month|count|\n",
      "+-----+-----+\n",
      "|   12| 7603|\n",
      "|    2|14186|\n",
      "|   11|15263|\n",
      "|    3|15330|\n",
      "|    5|15733|\n",
      "|    1|15800|\n",
      "|    8|16130|\n",
      "|    4|16262|\n",
      "|   10|16569|\n",
      "|    9|16736|\n",
      "|    6|16978|\n",
      "|    7|18476|\n",
      "+-----+-----+\n",
      "\n"
     ]
    },
    {
     "name": "stderr",
     "output_type": "stream",
     "text": [
      "\r",
      "[Stage 108:>                                                        (0 + 8) / 8]\r",
      "\r",
      "                                                                                \r"
     ]
    }
   ],
   "source": [
    "# Ici je vais comparer la régularité des trains par rapport au nombre d'objet déclaré perdu par mois\n",
    "# df5 contient les objets déclaré perdu pendant l'année 2019\n",
    "df5 = donneAnneprecis\n",
    "df5.groupBy('month').count().orderBy('count').show()\n",
    "#le tableau ci dessous se lit de la maniére suivante: en mois de juin presque 17k objets on ete déclaré perdu\n",
    "# Le but est de faire un graphe d'evolution de deux lignes pour comparer entre les mois \n",
    "# et cela entre les dataframe df5 et mydataTrain"
   ]
  },
  {
   "cell_type": "code",
   "execution_count": null,
   "id": "c70cda55",
   "metadata": {},
   "outputs": [],
   "source": [
    "# Reste a bien visualiser tous ça et tous mettre dans une petite présenation et tout ordonner sur un Git "
   ]
  }
 ],
 "metadata": {
  "kernelspec": {
   "display_name": "Python 3 (ipykernel)",
   "language": "python",
   "name": "python3"
  },
  "language_info": {
   "codemirror_mode": {
    "name": "ipython",
    "version": 3
   },
   "file_extension": ".py",
   "mimetype": "text/x-python",
   "name": "python",
   "nbconvert_exporter": "python",
   "pygments_lexer": "ipython3",
   "version": "3.9.12"
  }
 },
 "nbformat": 4,
 "nbformat_minor": 5
}
